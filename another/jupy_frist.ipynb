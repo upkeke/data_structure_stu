{
 "cells": [
  {
   "cell_type": "code",
   "execution_count": 2,
   "metadata": {},
   "outputs": [
    {
     "name": "stdout",
     "output_type": "stream",
     "text": [
      "hello, jiagn\n",
      "i am 20 years old\n"
     ]
    }
   ],
   "source": [
    "class A():\n",
    "    def __init__(self,name):\n",
    "        self.name =name\n",
    "        self.age = 20\n",
    "    def say_hello(self):\n",
    "        print(f\"hello, {self.name}\")\n",
    "    def get_age(self):\n",
    "        return self.age\n",
    "\n",
    "a=A(\"jiagn\")\n",
    "a.say_hello()\n",
    "print(f\"i am {a.get_age()} years old\")\n",
    "\n"
   ]
  },
  {
   "cell_type": "markdown",
   "metadata": {},
   "source": [
    "![IMG_20220511_032226R](F:\\图片保存处勿动\\IMG_20220511_032226R.jpg)  \n",
    "![img2](E:/c_project/data_structure_stu/img/profileIcon1296.jpg)    \n",
    "[求二叉树深度的递归算法分析](https://www.bilibili.com/video/BV1Nt411K75B?spm_id_from=333.337.search-card.all.click)  "
   ]
  }
 ],
 "metadata": {
  "interpreter": {
   "hash": "d5451aa5df31c56a0677fe8d2ace4857be01e38344620f0d973ee396b10781c5"
  },
  "kernelspec": {
   "display_name": "Python 3.8.3 64-bit",
   "language": "python",
   "name": "python3"
  },
  "language_info": {
   "codemirror_mode": {
    "name": "ipython",
    "version": 3
   },
   "file_extension": ".py",
   "mimetype": "text/x-python",
   "name": "python",
   "nbconvert_exporter": "python",
   "pygments_lexer": "ipython3",
   "version": "3.8.3"
  },
  "orig_nbformat": 4
 },
 "nbformat": 4,
 "nbformat_minor": 2
}
